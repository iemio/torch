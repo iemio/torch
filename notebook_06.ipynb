{
  "cells": [
    {
      "cell_type": "markdown",
      "metadata": {
        "id": "view-in-github",
        "colab_type": "text"
      },
      "source": [
        "<a href=\"https://colab.research.google.com/github/iemio/torch/blob/main/notebook_06.ipynb\" target=\"_parent\"><img src=\"https://colab.research.google.com/assets/colab-badge.svg\" alt=\"Open In Colab\"/></a>"
      ]
    },
    {
      "cell_type": "code",
      "execution_count": null,
      "metadata": {
        "colab": {
          "base_uri": "https://localhost:8080/"
        },
        "id": "lIYdn1woOS1n",
        "outputId": "e4ce2e25-76f6-4098-966b-224c7d5a1936"
      },
      "outputs": [
        {
          "output_type": "stream",
          "name": "stdout",
          "text": [
            "Using device = cuda:0\n"
          ]
        }
      ],
      "source": [
        "import torch\n",
        "\n",
        "# Check if CUDA is available\n",
        "device = torch.device('cpu')\n",
        "if torch.cuda.is_available():\n",
        "    device = torch.device('cuda')\n",
        "\n",
        "torch.set_default_device(device)\n",
        "print(f\"Using device = {torch.get_default_device()}\")"
      ]
    },
    {
      "cell_type": "code",
      "source": [
        "# Step 1: Download the file and save it as utils.py\n",
        "!wget -O utils.py \"https://raw.githubusercontent.com/iemio/DL_helpers/refs/heads/main/basic_rnn_helpers.py\""
      ],
      "metadata": {
        "id": "BIBk3_Q5BTx-",
        "outputId": "2b7b25bf-adc3-4616-eb3a-e505cb9aee3a",
        "colab": {
          "base_uri": "https://localhost:8080/"
        }
      },
      "execution_count": null,
      "outputs": [
        {
          "output_type": "stream",
          "name": "stdout",
          "text": [
            "--2025-01-27 14:10:24--  https://raw.githubusercontent.com/iemio/DL_helpers/refs/heads/main/basic_rnn_helpers.py\n",
            "Resolving raw.githubusercontent.com (raw.githubusercontent.com)... 185.199.108.133, 185.199.109.133, 185.199.110.133, ...\n",
            "Connecting to raw.githubusercontent.com (raw.githubusercontent.com)|185.199.108.133|:443... connected.\n",
            "HTTP request sent, awaiting response... 200 OK\n",
            "Length: 3009 (2.9K) [text/plain]\n",
            "Saving to: ‘utils.py’\n",
            "\n",
            "\rutils.py              0%[                    ]       0  --.-KB/s               \rutils.py            100%[===================>]   2.94K  --.-KB/s    in 0s      \n",
            "\n",
            "2025-01-27 14:10:25 (34.7 MB/s) - ‘utils.py’ saved [3009/3009]\n",
            "\n"
          ]
        }
      ]
    },
    {
      "cell_type": "code",
      "source": [
        "!cat utils.py\n"
      ],
      "metadata": {
        "id": "qS6pEk_MF2Gn",
        "outputId": "a67ead27-8f50-4c85-fd70-8083b9b61c1a",
        "colab": {
          "base_uri": "https://localhost:8080/"
        }
      },
      "execution_count": null,
      "outputs": [
        {
          "output_type": "stream",
          "name": "stdout",
          "text": [
            "# data: https://download.pytorch.org/tutorial/data.zip\n",
            "import io\n",
            "import os\n",
            "import unicodedata\n",
            "import string\n",
            "import glob\n",
            "\n",
            "import torch\n",
            "import random\n",
            "\n",
            "# alphabet small + capital letters + \" .,;'\"\n",
            "ALL_LETTERS = string.ascii_letters + \" .,;'\"\n",
            "N_LETTERS = len(ALL_LETTERS)\n",
            "\n",
            "# Turn a Unicode string to plain ASCII, thanks to https://stackoverflow.com/a/518232/2809427\n",
            "def unicode_to_ascii(s):\n",
            "    return ''.join(\n",
            "        c for c in unicodedata.normalize('NFD', s)\n",
            "        if unicodedata.category(c) != 'Mn'\n",
            "        and c in ALL_LETTERS\n",
            "    )\n",
            "\n",
            "def load_data():\n",
            "    # Build the category_lines dictionary, a list of names per language\n",
            "    category_lines = {}\n",
            "    all_categories = []\n",
            "    \n",
            "    def find_files(path):\n",
            "        return glob.glob(path)\n",
            "    \n",
            "    # Read a file and split into lines\n",
            "    def read_lines(filename):\n",
            "        lines = io.open(filename, encoding='utf-8').read().strip().split('\\n')\n",
            "        return [unicode_to_ascii(line) for line in lines]\n",
            "    \n",
            "    for filename in find_files('data/names/*.txt'):\n",
            "        category = os.path.splitext(os.path.basename(filename))[0]\n",
            "        all_categories.append(category)\n",
            "        \n",
            "        lines = read_lines(filename)\n",
            "        category_lines[category] = lines\n",
            "        \n",
            "    return category_lines, all_categories\n",
            "\n",
            "\n",
            "\n",
            "\"\"\"\n",
            "To represent a single letter, we use a “one-hot vector” of \n",
            "size <1 x n_letters>. A one-hot vector is filled with 0s\n",
            "except for a 1 at index of the current letter, e.g. \"b\" = <0 1 0 0 0 ...>.\n",
            "\n",
            "To make a word we join a bunch of those into a\n",
            "2D matrix <line_length x 1 x n_letters>.\n",
            "\n",
            "That extra 1 dimension is because PyTorch assumes\n",
            "everything is in batches - we’re just using a batch size of 1 here.\n",
            "\"\"\"\n",
            "\n",
            "# Find letter index from all_letters, e.g. \"a\" = 0\n",
            "def letter_to_index(letter):\n",
            "    return ALL_LETTERS.find(letter)\n",
            "\n",
            "# Just for demonstration, turn a letter into a <1 x n_letters> Tensor\n",
            "def letter_to_tensor(letter):\n",
            "    tensor = torch.zeros(1, N_LETTERS)\n",
            "    tensor[0][letter_to_index(letter)] = 1\n",
            "    return tensor\n",
            "\n",
            "# Turn a line into a <line_length x 1 x n_letters>,\n",
            "# or an array of one-hot letter vectors\n",
            "def line_to_tensor(line):\n",
            "    tensor = torch.zeros(len(line), 1, N_LETTERS)\n",
            "    for i, letter in enumerate(line):\n",
            "        tensor[i][0][letter_to_index(letter)] = 1\n",
            "    return tensor\n",
            "\n",
            "\n",
            "def random_training_example(category_lines, all_categories):\n",
            "    \n",
            "    def random_choice(a):\n",
            "        random_idx = random.randint(0, len(a) - 1)\n",
            "        return a[random_idx]\n",
            "    \n",
            "    category = random_choice(all_categories)\n",
            "    line = random_choice(category_lines[category])\n",
            "    category_tensor = torch.tensor([all_categories.index(category)], dtype=torch.long)\n",
            "    line_tensor = line_to_tensor(line)\n",
            "    return category, line, category_tensor, line_tensor\n",
            "\n",
            "\n",
            "\n",
            "if __name__ == '__main__':\n",
            "    print(ALL_LETTERS)\n",
            "    print(unicode_to_ascii('Ślusàrski'))\n",
            "    \n",
            "    category_lines, all_categories = load_data()\n",
            "    print(category_lines['Italian'][:5])\n",
            "    \n",
            "    print(letter_to_tensor('J')) # [1, 57]\n",
            "    print(line_to_tensor('Jones').size()) # [5, 1, 57]"
          ]
        }
      ]
    },
    {
      "cell_type": "code",
      "source": [
        "import os\n",
        "import zipfile\n",
        "\n",
        "# Step 1: Download the file\n",
        "!wget -O data.zip \"https://download.pytorch.org/tutorial/data.zip\"\n",
        "\n",
        "# Step 2: Extract the ZIP file\n",
        "with zipfile.ZipFile(\"data.zip\", \"r\") as zip_ref:\n",
        "    zip_ref.extractall()  # Extracts into a folder if folder is given otherwise in root directory of collab\n",
        "\n",
        "# Step 3: Check the extracted files\n",
        "print(\"Extracted files and directories:\")\n",
        "for root, dirs, files in os.walk(\"data\"):\n",
        "    for file in files:\n",
        "        print(os.path.join(root, file))\n"
      ],
      "metadata": {
        "id": "tInioE76G4IM",
        "outputId": "de1a3959-228e-4cc2-ee43-90a2212a2f34",
        "colab": {
          "base_uri": "https://localhost:8080/"
        }
      },
      "execution_count": null,
      "outputs": [
        {
          "output_type": "stream",
          "name": "stdout",
          "text": [
            "--2025-01-27 14:26:13--  https://download.pytorch.org/tutorial/data.zip\n",
            "Resolving download.pytorch.org (download.pytorch.org)... 3.165.102.113, 3.165.102.31, 3.165.102.36, ...\n",
            "Connecting to download.pytorch.org (download.pytorch.org)|3.165.102.113|:443... connected.\n",
            "HTTP request sent, awaiting response... 200 OK\n",
            "Length: 2882130 (2.7M) [application/zip]\n",
            "Saving to: ‘data.zip’\n",
            "\n",
            "\rdata.zip              0%[                    ]       0  --.-KB/s               \rdata.zip            100%[===================>]   2.75M  --.-KB/s    in 0.02s   \n",
            "\n",
            "2025-01-27 14:26:13 (110 MB/s) - ‘data.zip’ saved [2882130/2882130]\n",
            "\n",
            "Extracted files and directories:\n",
            "data/eng-fra.txt\n",
            "data/names/French.txt\n",
            "data/names/Polish.txt\n",
            "data/names/Arabic.txt\n",
            "data/names/Greek.txt\n",
            "data/names/English.txt\n",
            "data/names/German.txt\n",
            "data/names/Japanese.txt\n",
            "data/names/Vietnamese.txt\n",
            "data/names/Chinese.txt\n",
            "data/names/Portuguese.txt\n",
            "data/names/Italian.txt\n",
            "data/names/Spanish.txt\n",
            "data/names/Dutch.txt\n",
            "data/names/Irish.txt\n",
            "data/names/Scottish.txt\n",
            "data/names/Russian.txt\n",
            "data/names/Czech.txt\n",
            "data/names/Korean.txt\n"
          ]
        }
      ]
    },
    {
      "cell_type": "code",
      "source": [
        "!rm -rf data"
      ],
      "metadata": {
        "id": "GL_w3EvMHrFr"
      },
      "execution_count": null,
      "outputs": []
    },
    {
      "cell_type": "code",
      "source": [
        "# Remove the data.zip file\n",
        "!rm -f data.zip"
      ],
      "metadata": {
        "id": "_BSsWrdaIhaP"
      },
      "execution_count": null,
      "outputs": []
    },
    {
      "cell_type": "code",
      "source": [
        "import torch.nn as nn\n",
        "import matplotlib.pyplot as plt"
      ],
      "metadata": {
        "id": "6S0IKhiPI4xh"
      },
      "execution_count": null,
      "outputs": []
    },
    {
      "cell_type": "code",
      "source": [
        "from utils import ALL_LETTERS, N_LETTERS\n",
        "from utils import load_data, letter_to_tensor, line_to_tensor, random_training_example"
      ],
      "metadata": {
        "id": "quHQ9zl-KME_"
      },
      "execution_count": null,
      "outputs": []
    },
    {
      "cell_type": "code",
      "source": [
        "class RNN(nn.Module):\n",
        "    # implement RNN from scratch rather than using nn.RNN\n",
        "    def __init__(self, input_size, hidden_size, output_size):\n",
        "        super(RNN, self).__init__()\n",
        "\n",
        "        self.hidden_size = hidden_size\n",
        "        self.i2h = nn.Linear(input_size + hidden_size, hidden_size)\n",
        "        self.i2o = nn.Linear(input_size + hidden_size, output_size)\n",
        "        self.softmax = nn.LogSoftmax(dim=1)\n",
        "\n",
        "    def forward(self, input_tensor, hidden_tensor):\n",
        "        combined = torch.cat((input_tensor, hidden_tensor), 1)\n",
        "\n",
        "        hidden = self.i2h(combined)\n",
        "        output = self.i2o(combined)\n",
        "        output = self.softmax(output)\n",
        "        return output, hidden\n",
        "\n",
        "    def init_hidden(self):\n",
        "        return torch.zeros(1, self.hidden_size)"
      ],
      "metadata": {
        "id": "y98i1V4GKMmB"
      },
      "execution_count": null,
      "outputs": []
    },
    {
      "cell_type": "code",
      "source": [
        "category_lines, all_categories = load_data()\n",
        "n_categories = len(all_categories)"
      ],
      "metadata": {
        "id": "qWg3zXPnKtTc"
      },
      "execution_count": null,
      "outputs": []
    },
    {
      "cell_type": "code",
      "source": [
        "n_hidden = 128\n",
        "rnn = RNN(N_LETTERS, n_hidden, n_categories)"
      ],
      "metadata": {
        "id": "1njnBlMHLYlm"
      },
      "execution_count": null,
      "outputs": []
    },
    {
      "cell_type": "code",
      "source": [
        "# one step\n",
        "input_tensor = letter_to_tensor('A')\n",
        "hidden_tensor = rnn.init_hidden()"
      ],
      "metadata": {
        "id": "LZx42yuyLcaL"
      },
      "execution_count": null,
      "outputs": []
    },
    {
      "cell_type": "code",
      "source": [
        "output, next_hidden = rnn(input_tensor, hidden_tensor)\n",
        "print(output.size())\n",
        "print(next_hidden.size())"
      ],
      "metadata": {
        "id": "okjGIiJKLenc",
        "outputId": "55ab6f28-1889-4f80-9cb7-b764866f55c7",
        "colab": {
          "base_uri": "https://localhost:8080/"
        }
      },
      "execution_count": null,
      "outputs": [
        {
          "output_type": "stream",
          "name": "stdout",
          "text": [
            "torch.Size([1, 18])\n",
            "torch.Size([1, 128])\n"
          ]
        }
      ]
    },
    {
      "cell_type": "code",
      "source": [
        "# whole sequence/name\n",
        "input_tensor = line_to_tensor('Albert')\n",
        "hidden_tensor = rnn.init_hidden()"
      ],
      "metadata": {
        "id": "r2O2raosLg1G"
      },
      "execution_count": null,
      "outputs": []
    },
    {
      "cell_type": "code",
      "source": [
        "output, next_hidden = rnn(input_tensor[0], hidden_tensor)\n",
        "print(output.size())\n",
        "print(next_hidden.size())"
      ],
      "metadata": {
        "id": "C_voydXELngR",
        "outputId": "1214ff1f-ea3a-4280-b2c9-abc29b30bd0b",
        "colab": {
          "base_uri": "https://localhost:8080/"
        }
      },
      "execution_count": null,
      "outputs": [
        {
          "output_type": "stream",
          "name": "stdout",
          "text": [
            "torch.Size([1, 18])\n",
            "torch.Size([1, 128])\n"
          ]
        }
      ]
    },
    {
      "cell_type": "code",
      "source": [
        "#\n",
        "def category_from_output(output):\n",
        "    category_idx = torch.argmax(output).item()\n",
        "    return all_categories[category_idx]"
      ],
      "metadata": {
        "id": "x3jhQCD9LqRP"
      },
      "execution_count": null,
      "outputs": []
    },
    {
      "cell_type": "code",
      "source": [
        "print(category_from_output(output))"
      ],
      "metadata": {
        "id": "eHP5Hmr2LtKz",
        "outputId": "9fed7dfc-b6dc-4d25-8ff3-3c0f68730dfc",
        "colab": {
          "base_uri": "https://localhost:8080/"
        }
      },
      "execution_count": null,
      "outputs": [
        {
          "output_type": "stream",
          "name": "stdout",
          "text": [
            "Chinese\n"
          ]
        }
      ]
    },
    {
      "cell_type": "code",
      "source": [
        "criterion = nn.NLLLoss()\n",
        "learning_rate = 0.005\n",
        "optimizer = torch.optim.SGD(rnn.parameters(), lr=learning_rate)"
      ],
      "metadata": {
        "id": "gOxe0yjxLu6o"
      },
      "execution_count": null,
      "outputs": []
    },
    {
      "cell_type": "code",
      "source": [
        "def train(line_tensor, category_tensor):\n",
        "    hidden = rnn.init_hidden()\n",
        "\n",
        "    for i in range(line_tensor.size()[0]):\n",
        "        output, hidden = rnn(line_tensor[i], hidden)\n",
        "\n",
        "    loss = criterion(output, category_tensor)\n",
        "\n",
        "    optimizer.zero_grad()\n",
        "    loss.backward()\n",
        "    optimizer.step()\n",
        "\n",
        "    return output, loss.item()\n",
        "\n",
        "current_loss = 0\n",
        "all_losses = []\n",
        "plot_steps, print_steps = 1000, 5000\n",
        "n_iters = 100000\n",
        "for i in range(n_iters):\n",
        "    category, line, category_tensor, line_tensor = random_training_example(category_lines, all_categories)\n",
        "\n",
        "    output, loss = train(line_tensor, category_tensor)\n",
        "    current_loss += loss\n",
        "\n",
        "    if (i+1) % plot_steps == 0:\n",
        "        all_losses.append(current_loss / plot_steps)\n",
        "        current_loss = 0\n",
        "\n",
        "    if (i+1) % print_steps == 0:\n",
        "        guess = category_from_output(output)\n",
        "        correct = \"CORRECT\" if guess == category else f\"WRONG ({category})\"\n",
        "        print(f\"{i+1} {(i+1)/n_iters*100} {loss:.4f} {line} / {guess} {correct}\")\n",
        "\n",
        "\n",
        "plt.figure()\n",
        "plt.plot(all_losses)\n",
        "plt.show()"
      ],
      "metadata": {
        "id": "NpKgjlcHLxKt",
        "outputId": "ec59e07f-d944-48a2-d80c-42baeaf06afa",
        "colab": {
          "base_uri": "https://localhost:8080/",
          "height": 787
        }
      },
      "execution_count": null,
      "outputs": [
        {
          "output_type": "stream",
          "name": "stdout",
          "text": [
            "5000 5.0 2.4661 Ferro / Portuguese CORRECT\n",
            "10000 10.0 1.0401 Alfimov / Russian CORRECT\n",
            "15000 15.0 1.3977 Sebastino / Italian CORRECT\n",
            "20000 20.0 0.9307 Hui / Chinese CORRECT\n",
            "25000 25.0 2.2610 Sweeting / German WRONG (English)\n",
            "30000 30.0 2.7350 Laterza / Portuguese WRONG (Italian)\n",
            "35000 35.0 1.7874 Rompu / Dutch CORRECT\n",
            "40000 40.0 2.6740 Leedham / Vietnamese WRONG (English)\n",
            "45000 45.0 0.3230 Araujo / Portuguese CORRECT\n",
            "50000 50.0 1.8310 Goulding / Irish WRONG (English)\n",
            "55000 55.00000000000001 0.8304 Song / Chinese CORRECT\n",
            "60000 60.0 0.1470 Son / Korean CORRECT\n",
            "65000 65.0 0.5558 Palmeiro / Portuguese CORRECT\n",
            "70000 70.0 2.0492 Tahan / Vietnamese WRONG (Arabic)\n",
            "75000 75.0 2.4548 Novotny / English WRONG (Czech)\n",
            "80000 80.0 0.7751 Hunter / Scottish CORRECT\n",
            "85000 85.0 1.3258 Sze  / Chinese CORRECT\n",
            "90000 90.0 3.0541 Alftan / English WRONG (Russian)\n",
            "95000 95.0 2.7898 Samaha / Japanese WRONG (Arabic)\n",
            "100000 100.0 0.0076 Chrysanthopoulos / Greek CORRECT\n"
          ]
        },
        {
          "output_type": "display_data",
          "data": {
            "text/plain": [
              "<Figure size 640x480 with 1 Axes>"
            ],
            "image/png": "[encoded data removed]"
          },
          "metadata": {}
        }
      ]
    },
    {
      "cell_type": "code",
      "source": [
        "def predict(input_line):\n",
        "    print(f\"\\n> {input_line}\")\n",
        "    with torch.no_grad():\n",
        "        line_tensor = line_to_tensor(input_line)\n",
        "\n",
        "        hidden = rnn.init_hidden()\n",
        "\n",
        "        for i in range(line_tensor.size()[0]):\n",
        "            output, hidden = rnn(line_tensor[i], hidden)\n",
        "\n",
        "        guess = category_from_output(output)\n",
        "        print(guess)\n",
        "\n",
        "\n",
        "while True:\n",
        "    sentence = input(\"Input:\")\n",
        "    if sentence == \"quit\":\n",
        "        break\n",
        "\n",
        "    predict(sentence)"
      ],
      "metadata": {
        "id": "6ommYnJOL5JU",
        "outputId": "3263a9aa-4f02-45d7-d45d-90538dfa70ec",
        "colab": {
          "base_uri": "https://localhost:8080/"
        }
      },
      "execution_count": null,
      "outputs": [
        {
          "name": "stdout",
          "output_type": "stream",
          "text": [
            "Input:keshav\n",
            "\n",
            "> keshav\n",
            "Russian\n",
            "Input:alftan\n",
            "\n",
            "> alftan\n",
            "English\n",
            "Input:goulding\n",
            "\n",
            "> goulding\n",
            "Irish\n",
            "Input:exit\n",
            "\n",
            "> exit\n",
            "French\n",
            "Input:quit\n"
          ]
        }
      ]
    },
    {
      "cell_type": "code",
      "source": [],
      "metadata": {
        "id": "qiXMvhqtL9w1"
      },
      "execution_count": null,
      "outputs": []
    }
  ],
  "metadata": {
    "colab": {
      "name": "scratchpad",
      "provenance": [],
      "gpuType": "T4",
      "include_colab_link": true
    },
    "kernelspec": {
      "display_name": "Python 3",
      "name": "python3"
    },
    "accelerator": "GPU"
  },
  "nbformat": 4,
  "nbformat_minor": 0
}